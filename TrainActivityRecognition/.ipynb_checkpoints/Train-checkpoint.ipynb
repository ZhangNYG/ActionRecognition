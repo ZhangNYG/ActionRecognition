{
 "cells": [
  {
   "cell_type": "code",
   "execution_count": 8,
   "metadata": {},
   "outputs": [],
   "source": [
    "import numpy as np\n",
    "import xgboost as xgb\n",
    "import os\n",
    "import pandas as pd"
   ]
  },
  {
   "cell_type": "code",
   "execution_count": 51,
   "metadata": {},
   "outputs": [],
   "source": [
    "directory = \"data/\"\n",
    "labels = {}\n",
    "data = []\n",
    "i = 0\n",
    "for root, dirs, files in os.walk(directory):\n",
    "    for file in files:\n",
    "        path = os.path.join(root, file)\n",
    "        if(file.endswith(\".txt\")):\n",
    "            labels[i] = file.replace(\".txt\",\"\")            \n",
    "            data.append(pd.read_csv(path,header=None).drop(0,axis=1).drop_duplicates())\n",
    "            i += 1\n",
    "            \n",
    "for i in range(len(labels)):\n",
    "    data[i][290] = i   \n",
    "pd.concat(data).to_csv(\"data.txt\",header=None)"
   ]
  },
  {
   "cell_type": "code",
   "execution_count": 54,
   "metadata": {},
   "outputs": [],
   "source": []
  },
  {
   "cell_type": "code",
   "execution_count": 58,
   "metadata": {},
   "outputs": [],
   "source": []
  }
 ],
 "metadata": {
  "kernelspec": {
   "display_name": "tfenv",
   "language": "python",
   "name": "tfenv"
  },
  "language_info": {
   "codemirror_mode": {
    "name": "ipython",
    "version": 3
   },
   "file_extension": ".py",
   "mimetype": "text/x-python",
   "name": "python",
   "nbconvert_exporter": "python",
   "pygments_lexer": "ipython3",
   "version": "3.6.4"
  }
 },
 "nbformat": 4,
 "nbformat_minor": 2
}
