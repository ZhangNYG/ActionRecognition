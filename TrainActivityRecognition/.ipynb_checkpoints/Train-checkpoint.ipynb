{
 "cells": [
  {
   "cell_type": "code",
   "execution_count": null,
   "metadata": {},
   "outputs": [],
   "source": [
    "import numpy as np\n",
    "import xgboost as xgb\n",
    "import os\n",
    "import pandas as pd\n",
    "import pickle\n",
    "from sklearn.metrics import accuracy_score\n",
    "from sklearn.model_selection import train_test_split"
   ]
  },
  {
   "cell_type": "code",
   "execution_count": null,
   "metadata": {},
   "outputs": [],
   "source": [
    "# Use this to generate concatenated data file and label encoder from Video Dataset folder\n",
    "# Assuming that you already used Data Extraction script on the dataset Folder.\n",
    "# Note that every data file should be named after it's action name.\n",
    "\n",
    "def genConcatData(directory=\"data/\"):\n",
    "    encoder = {}\n",
    "    data = []\n",
    "    i = 0\n",
    "    for root, dirs, files in os.walk(directory):\n",
    "        for file in files:\n",
    "            path = os.path.join(root, file)\n",
    "            if(file.endswith(\".txt\")):\n",
    "                encoder[i] = file.replace(\".txt\",\"\")            \n",
    "                data.append(pd.read_csv(path,header=None).drop(0,axis=1).drop_duplicates())\n",
    "                i += 1\n",
    "\n",
    "    for i in range(len(encoder)):\n",
    "        data[i][290] = i   \n",
    "    pd.concat(data).to_csv(\"data.txt\",header=None)\n",
    "    pickle.dump(labels, open(\"labels.dat\", \"wb\"),protocol=2)    \n",
    "    "
   ]
  },
  {
   "cell_type": "code",
   "execution_count": null,
   "metadata": {},
   "outputs": [],
   "source": [
    "# First column removed, because contains constant value\n",
    "df = pd.read_csv(\"data.txt\",header=None).drop(0,axis=1)"
   ]
  },
  {
   "cell_type": "code",
   "execution_count": null,
   "metadata": {},
   "outputs": [],
   "source": [
    "df.shape"
   ]
  },
  {
   "cell_type": "code",
   "execution_count": null,
   "metadata": {},
   "outputs": [],
   "source": [
    "# Initial Dataset was containing 290 features consisting of 14 body parts, \n",
    "# however we decided to remove 2 body parts which are Left and Right ankle\n",
    "# This function generates indexes which should be removed from dataset \n",
    "# depending on input body part indexes.\n",
    "# Here defaults are 10 and 13, which means that Left and Right ankle.\n",
    "def genIdxsToRemove(indxs = [10,13]):      \n",
    "    \n",
    "    indxs = np.array(indxs)\n",
    "    num_ids = indxs.shape[0]\n",
    "    dist = 14*2+1\n",
    "    idxsToRemove = []\n",
    "    \n",
    "    for idx in indxs:    \n",
    "        for i in range(10):\n",
    "            idxsToRemove.append(2*idx+i*dist+1)\n",
    "            idxsToRemove.append(2*idx+i*dist+2)\n",
    "            \n",
    "    return idxsToRemove"
   ]
  },
  {
   "cell_type": "code",
   "execution_count": null,
   "metadata": {},
   "outputs": [],
   "source": [
    "X = df.drop(genIdxsToRemove()+[290],axis=1).values\n",
    "y = df[290].values"
   ]
  },
  {
   "cell_type": "code",
   "execution_count": null,
   "metadata": {},
   "outputs": [],
   "source": [
    "X.shape"
   ]
  },
  {
   "cell_type": "code",
   "execution_count": null,
   "metadata": {},
   "outputs": [],
   "source": [
    "### Code for cross-valiation \n",
    "X_train,X_test,y_train,y_test = train_test_split(X,y,test_size=0.3)\n",
    "\n",
    "lamdas = np.logspace(1,5,5)\n",
    "score_best = -10e15\n",
    "for lamda in lamdas:\n",
    "        print(lamda)\n",
    "        clf = xgb.XGBRegressor(n_estimators=1000, learning_rate=1, gamma=0, n_jobs=4, reg_lambda=lamda,\n",
    "                           colsample_bytree=1, max_depth=7)   \n",
    "        clf.fit(X_train,y_train)\n",
    "        test_score = accuracy_score(y_test,clf.predict(X_test))\n",
    "        if(test_score>score_best):\n",
    "            print(test_score)\n",
    "            score_best = test_score\n",
    "            best_lamda = lamda\n"
   ]
  },
  {
   "cell_type": "code",
   "execution_count": null,
   "metadata": {},
   "outputs": [],
   "source": [
    "clf = xgb.XGBClassifier(n_estimators=1000, learning_rate=0.1,reg_lambda=best_lamda, n_jobs=4,max_depth=7) \n",
    "clf.fit(X,y)"
   ]
  },
  {
   "cell_type": "code",
   "execution_count": null,
   "metadata": {},
   "outputs": [],
   "source": [
    "y_pred = clf.predict(X)"
   ]
  },
  {
   "cell_type": "code",
   "execution_count": null,
   "metadata": {},
   "outputs": [],
   "source": [
    "accuracy_score(y,y_pred)"
   ]
  },
  {
   "cell_type": "code",
   "execution_count": null,
   "metadata": {},
   "outputs": [],
   "source": [
    "# Saving Classifier in file.\n",
    "pickle.dump(clf, open(\"clf.dat\", \"wb\"),protocol=2)"
   ]
  }
 ],
 "metadata": {
  "kernelspec": {
   "display_name": "cv",
   "language": "python",
   "name": "cv"
  },
  "language_info": {
   "codemirror_mode": {
    "name": "ipython",
    "version": 3
   },
   "file_extension": ".py",
   "mimetype": "text/x-python",
   "name": "python",
   "nbconvert_exporter": "python",
   "pygments_lexer": "ipython3",
   "version": "3.6.5"
  }
 },
 "nbformat": 4,
 "nbformat_minor": 2
}
